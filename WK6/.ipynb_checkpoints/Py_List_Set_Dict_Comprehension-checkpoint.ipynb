{
 "cells": [
  {
   "cell_type": "markdown",
   "metadata": {},
   "source": [
    "# Olivia Storaci\n",
    "## Week 6: 2/24/2022\n",
    "### Python - List, Set, Dictionary Comprehension"
   ]
  },
  {
   "cell_type": "markdown",
   "metadata": {},
   "source": [
    "<code> new_list = [expression for member in iterable] <code/>\n",
    "\n",
    "# Using Conditional Logic\n",
    "\n",
    "<code> new_list = [expression for member in iterable (if conditional)]    <code/>\n",
    "\n",
    "<code> new_list = [expression (if conditional) for member in iterable]    <code/>"
   ]
  },
  {
   "cell_type": "code",
   "execution_count": 1,
   "metadata": {},
   "outputs": [
    {
     "name": "stdout",
     "output_type": "stream",
     "text": [
      "['C', 'I', 'S', '3', '1', '0', 'D', 'a', 't', 'a']\n"
     ]
    }
   ],
   "source": [
    "# Create a list from this string\n",
    "lst = []\n",
    "\n",
    "for letter in 'CIS310Data':\n",
    "    lst.append(letter)\n",
    "    \n",
    "print(lst)"
   ]
  },
  {
   "cell_type": "code",
   "execution_count": 2,
   "metadata": {},
   "outputs": [
    {
     "name": "stdout",
     "output_type": "stream",
     "text": [
      "['C', 'I', 'S', '3', '1', '0', 'D', 'a', 't', 'a']\n"
     ]
    }
   ],
   "source": [
    "'''\n",
    "Syntax of the list comprehension\n",
    "[expression for item in list]\n",
    "'''\n",
    "lst = [letter for letter in 'CIS310Data']\n",
    "print(lst)"
   ]
  },
  {
   "cell_type": "code",
   "execution_count": 3,
   "metadata": {},
   "outputs": [
    {
     "data": {
      "text/plain": [
       "[0, 1, 4, 9, 16, 25, 36, 49, 64, 81, 100]"
      ]
     },
     "execution_count": 3,
     "metadata": {},
     "output_type": "execute_result"
    }
   ],
   "source": [
    "# Empty square backet is empty list\n",
    "squares = []\n",
    "# This will stop between 0 and 10\n",
    "for i in range(11):\n",
    "    #multiple it by itself\n",
    "    squares.append(i * i)\n",
    "#Print the variables\n",
    "squares"
   ]
  },
  {
   "cell_type": "code",
   "execution_count": 4,
   "metadata": {},
   "outputs": [
    {
     "data": {
      "text/plain": [
       "[0, 1, 4, 9, 16, 25, 36, 49, 64, 81, 100]"
      ]
     },
     "execution_count": 4,
     "metadata": {},
     "output_type": "execute_result"
    }
   ],
   "source": [
    "# Comprehension for List\n",
    "squares = [n * n for n in range(11)]\n",
    "squares"
   ]
  },
  {
   "cell_type": "code",
   "execution_count": 5,
   "metadata": {},
   "outputs": [
    {
     "data": {
      "text/plain": [
       "[0, 4, 16, 36, 64, 100]"
      ]
     },
     "execution_count": 5,
     "metadata": {},
     "output_type": "execute_result"
    }
   ],
   "source": [
    "# Filter the data\n",
    "squares = [n * n for n in range(11) if n % 2 == 0]\n",
    "squares"
   ]
  },
  {
   "cell_type": "code",
   "execution_count": 6,
   "metadata": {},
   "outputs": [
    {
     "data": {
      "text/plain": [
       "[0, 4, 16, 36, 64, 100]"
      ]
     },
     "execution_count": 6,
     "metadata": {},
     "output_type": "execute_result"
    }
   ],
   "source": [
    "lst2 = [n * n for n in range(11) if n % 2 == 0]\n",
    "lst2"
   ]
  },
  {
   "cell_type": "code",
   "execution_count": 7,
   "metadata": {},
   "outputs": [
    {
     "data": {
      "text/plain": [
       "['o',\n",
       " 'u',\n",
       " 'i',\n",
       " 'a',\n",
       " 'e',\n",
       " 'u',\n",
       " 'e',\n",
       " 'i',\n",
       " 'a',\n",
       " 'a',\n",
       " 'i',\n",
       " 'a',\n",
       " 'i',\n",
       " 'i',\n",
       " 'a',\n",
       " 'a',\n",
       " 'i',\n",
       " 'a',\n",
       " 'i']"
      ]
     },
     "execution_count": 7,
     "metadata": {},
     "output_type": "execute_result"
    }
   ],
   "source": [
    "s = 'CIS310 communicate students with analytical thinking and practical skills'\n",
    "\n",
    "vowels = [l for l in s if l in 'aeiou']\n",
    "vowels"
   ]
  },
  {
   "cell_type": "code",
   "execution_count": 8,
   "metadata": {},
   "outputs": [
    {
     "data": {
      "text/plain": [
       "[1.25, 0, 10.22, 3.78, 0, 1.16]"
      ]
     },
     "execution_count": 8,
     "metadata": {},
     "output_type": "execute_result"
    }
   ],
   "source": [
    "prices = [1.25, -9.45, 10.22, 3.78, -5.92, 1.16]\n",
    "new_prices = [v if v > 0 else 0 for v in prices]\n",
    "new_prices"
   ]
  },
  {
   "cell_type": "code",
   "execution_count": 9,
   "metadata": {},
   "outputs": [
    {
     "data": {
      "text/plain": [
       "[1, 2, 3, 4, 5, 0, 0, 0, 0, 0]"
      ]
     },
     "execution_count": 9,
     "metadata": {},
     "output_type": "execute_result"
    }
   ],
   "source": [
    "number_set = [1,2,3,4,5,-1,-2,-3,-4,-5]\n",
    "pos_number_set = [v if v > 0 else 0 for v in number_set]\n",
    "pos_number_set"
   ]
  },
  {
   "cell_type": "code",
   "execution_count": 10,
   "metadata": {},
   "outputs": [
    {
     "data": {
      "text/plain": [
       "['odd', 'Even', 'odd', 'Even', 'odd', 'Even', 'odd', 'Even', 'odd', 'Even']"
      ]
     },
     "execution_count": 10,
     "metadata": {},
     "output_type": "execute_result"
    }
   ],
   "source": [
    "lst = ['Even' if num%2==0 else 'odd' for num in range(1,11)]\n",
    "lst"
   ]
  },
  {
   "cell_type": "code",
   "execution_count": 11,
   "metadata": {},
   "outputs": [
    {
     "data": {
      "text/plain": [
       "['t',\n",
       " 'd',\n",
       " 's',\n",
       " 'f',\n",
       " 'n',\n",
       " 'd',\n",
       " 't',\n",
       " 'h',\n",
       " 't',\n",
       " 't',\n",
       " 'h',\n",
       " 'y',\n",
       " 'f',\n",
       " 'n',\n",
       " 'n',\n",
       " 'c',\n",
       " 'l',\n",
       " 'm',\n",
       " 'p',\n",
       " 'c',\n",
       " 't',\n",
       " 'f',\n",
       " 'p',\n",
       " 'r',\n",
       " 'q',\n",
       " 'l',\n",
       " 't',\n",
       " 'y',\n",
       " 'd',\n",
       " 't',\n",
       " 'c',\n",
       " 's',\n",
       " 't',\n",
       " 't',\n",
       " 'h',\n",
       " 'c',\n",
       " 'n',\n",
       " 'm',\n",
       " 'y',\n",
       " 't',\n",
       " 'r',\n",
       " 'l',\n",
       " 'l',\n",
       " 'n',\n",
       " 'n']"
      ]
     },
     "execution_count": 11,
     "metadata": {},
     "output_type": "execute_result"
    }
   ],
   "source": [
    "# Conditional Logic\n",
    "s = 'Studies found that they financial impact of poor-quality data cost the US economy $3.1 trillion in 2016'\n",
    "vowels = 'aeiou'\n",
    "\n",
    "c = [letter for letter in s if letter.isalpha() and letter.islower() and letter not in vowels]\n",
    "c"
   ]
  },
  {
   "cell_type": "code",
   "execution_count": 30,
   "metadata": {},
   "outputs": [
    {
     "name": "stdout",
     "output_type": "stream",
     "text": [
      "[1.1772, 25.444799999999997, 62.467200000000005, 4.924799999999999, 7.3224]\n"
     ]
    }
   ],
   "source": [
    "# Calculate the tax after Tax\n",
    "# One example of List Comprehension in Python\n",
    "txns = [1.09, 23.56, -5.8, 57.84, 4.56, 6.78, -7.5]\n",
    "TAX_RATE = .08\n",
    "final_prices = [total + (total * TAX_RATE) for total in txns if total > 0]\n",
    "print(final_prices)"
   ]
  },
  {
   "cell_type": "code",
   "execution_count": 31,
   "metadata": {},
   "outputs": [
    {
     "data": {
      "text/plain": [
       "[1, 4, 9, 16, 25, 36, 49, 64, 81, 100]"
      ]
     },
     "execution_count": 31,
     "metadata": {},
     "output_type": "execute_result"
    }
   ],
   "source": [
    "# How to use nested list comprehensions\n",
    "lst = [n*n for n in range(1,11)]\n",
    "lst"
   ]
  },
  {
   "cell_type": "code",
   "execution_count": 37,
   "metadata": {},
   "outputs": [
    {
     "data": {
      "text/plain": [
       "[1, 16, 81, 256, 625, 1296, 2401, 4096, 6561, 10000]"
      ]
     },
     "execution_count": 37,
     "metadata": {},
     "output_type": "execute_result"
    }
   ],
   "source": [
    "# Number raised to 2\n",
    "lst = [num**2 for num in [n*n for n in range(1,11)]]\n",
    "lst"
   ]
  },
  {
   "cell_type": "code",
   "execution_count": 41,
   "metadata": {},
   "outputs": [
    {
     "data": {
      "text/plain": [
       "[16, 256, 1296, 4096, 10000]"
      ]
     },
     "execution_count": 41,
     "metadata": {},
     "output_type": "execute_result"
    }
   ],
   "source": [
    "# You want only even numbers from the above list. N module 2 is how to tell if things are even\n",
    "lst = [num**2 for num in [n*n for n in range(1,11) if n%2==0]]\n",
    "lst"
   ]
  },
  {
   "cell_type": "code",
   "execution_count": 42,
   "metadata": {},
   "outputs": [
    {
     "data": {
      "text/plain": [
       "{'a', 'e', 'i', 'o', 'u'}"
      ]
     },
     "execution_count": 42,
     "metadata": {},
     "output_type": "execute_result"
    }
   ],
   "source": [
    "# Using set and dictionary compresensions\n",
    "# BECAUSE sets do not accept duplicates\n",
    "#If you make it a list [] it will print all of them. Shown one line down!\n",
    "s = \"Data preparation consumes an amount of time (up to 80% spent on analytics\"\n",
    "unique_vowels = {letter for letter in s if letter in 'aeiou'}\n",
    "unique_vowels"
   ]
  },
  {
   "cell_type": "code",
   "execution_count": 43,
   "metadata": {},
   "outputs": [
    {
     "data": {
      "text/plain": [
       "['a',\n",
       " 'a',\n",
       " 'e',\n",
       " 'a',\n",
       " 'a',\n",
       " 'i',\n",
       " 'o',\n",
       " 'o',\n",
       " 'u',\n",
       " 'e',\n",
       " 'a',\n",
       " 'a',\n",
       " 'o',\n",
       " 'u',\n",
       " 'o',\n",
       " 'i',\n",
       " 'e',\n",
       " 'u',\n",
       " 'o',\n",
       " 'e',\n",
       " 'o',\n",
       " 'a',\n",
       " 'a',\n",
       " 'i']"
      ]
     },
     "execution_count": 43,
     "metadata": {},
     "output_type": "execute_result"
    }
   ],
   "source": [
    "unique_vowels = [letter for letter in s if letter in 'aeiou']\n",
    "unique_vowels"
   ]
  },
  {
   "cell_type": "code",
   "execution_count": 46,
   "metadata": {},
   "outputs": [
    {
     "data": {
      "text/plain": [
       "{0: 0, 1: 1, 2: 4, 3: 9, 4: 16, 5: 25, 6: 36, 7: 49, 8: 64, 9: 81}"
      ]
     },
     "execution_count": 46,
     "metadata": {},
     "output_type": "execute_result"
    }
   ],
   "source": [
    "# Create Dictionary. Square it. for range of numbers 0-9\n",
    "d = {i: i**2 for i in range(10)}\n",
    "d"
   ]
  },
  {
   "cell_type": "code",
   "execution_count": 50,
   "metadata": {},
   "outputs": [
    {
     "ename": "NameError",
     "evalue": "name 'cities' is not defined",
     "output_type": "error",
     "traceback": [
      "\u001b[1;31m---------------------------------------------------------------------------\u001b[0m",
      "\u001b[1;31mNameError\u001b[0m                                 Traceback (most recent call last)",
      "\u001b[1;32m<ipython-input-50-e6e450eb6d03>\u001b[0m in \u001b[0;36m<module>\u001b[1;34m\u001b[0m\n\u001b[0;32m      3\u001b[0m \u001b[0mcities\u001b[0m\u001b[1;33m:\u001b[0m \u001b[1;33m[\u001b[0m\u001b[1;34m'Austin'\u001b[0m\u001b[1;33m,\u001b[0m\u001b[1;34m'Tacoma'\u001b[0m\u001b[1;33m,\u001b[0m \u001b[1;34m'Topeka'\u001b[0m\u001b[1;33m,\u001b[0m\u001b[1;34m'Sacremento'\u001b[0m\u001b[1;33m,\u001b[0m\u001b[1;34m'Charlotte'\u001b[0m\u001b[1;33m]\u001b[0m\u001b[1;33m\u001b[0m\u001b[1;33m\u001b[0m\u001b[0m\n\u001b[0;32m      4\u001b[0m \u001b[0mtemps\u001b[0m \u001b[1;33m=\u001b[0m \u001b[1;33m{\u001b[0m\u001b[1;36m40\u001b[0m\u001b[1;33m,\u001b[0m\u001b[1;36m50\u001b[0m\u001b[1;33m,\u001b[0m\u001b[1;36m60\u001b[0m\u001b[1;33m,\u001b[0m\u001b[1;36m70\u001b[0m\u001b[1;33m,\u001b[0m\u001b[1;36m65\u001b[0m\u001b[1;33m}\u001b[0m\u001b[1;33m\u001b[0m\u001b[1;33m\u001b[0m\u001b[0m\n\u001b[1;32m----> 5\u001b[1;33m \u001b[0mprint\u001b[0m\u001b[1;33m(\u001b[0m\u001b[0mcities\u001b[0m\u001b[1;33m[\u001b[0m\u001b[1;36m0\u001b[0m\u001b[1;33m]\u001b[0m\u001b[1;33m)\u001b[0m\u001b[1;33m\u001b[0m\u001b[1;33m\u001b[0m\u001b[0m\n\u001b[0m",
      "\u001b[1;31mNameError\u001b[0m: name 'cities' is not defined"
     ]
    }
   ],
   "source": [
    "# List comprehension in dictionary comprehension\n",
    "# Keys are the cities\n",
    "cities: ['Austin','Tacoma', 'Topeka','Sacremento','Charlotte']\n",
    "temps = {40,50,60,70,65}"
   ]
  },
  {
   "cell_type": "code",
   "execution_count": null,
   "metadata": {},
   "outputs": [],
   "source": []
  }
 ],
 "metadata": {
  "kernelspec": {
   "display_name": "Python 3.7 - default",
   "language": "python",
   "name": "py37_default"
  },
  "language_info": {
   "codemirror_mode": {
    "name": "ipython",
    "version": 3
   },
   "file_extension": ".py",
   "mimetype": "text/x-python",
   "name": "python",
   "nbconvert_exporter": "python",
   "pygments_lexer": "ipython3",
   "version": "3.7.7"
  }
 },
 "nbformat": 4,
 "nbformat_minor": 4
}
