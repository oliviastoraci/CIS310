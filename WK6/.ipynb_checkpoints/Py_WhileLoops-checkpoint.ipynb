{
 "cells": [
  {
   "cell_type": "markdown",
   "metadata": {},
   "source": [
    "# Olivia Storaci\n",
    "## Week 6: 2/22/2022\n",
    "### Python - While Loops"
   ]
  },
  {
   "cell_type": "markdown",
   "metadata": {},
   "source": [
    "**The general format of Python while loops:**\n",
    "    \n",
    "<code>while test:\n",
    "    statements</code>"
   ]
  },
  {
   "cell_type": "code",
   "execution_count": 1,
   "metadata": {},
   "outputs": [
    {
     "name": "stdout",
     "output_type": "stream",
     "text": [
      "num is currently:  1\n",
      "num is less than or equal to 6, now adding 1 to num\n",
      "num is currently:  2\n",
      "num is less than or equal to 6, now adding 1 to num\n",
      "num is currently:  3\n",
      "num is less than or equal to 6, now adding 1 to num\n",
      "num is currently:  4\n",
      "num is less than or equal to 6, now adding 1 to num\n",
      "num is currently:  5\n",
      "num is less than or equal to 6, now adding 1 to num\n",
      "num is currently:  6\n",
      "num is less than or equal to 6, now adding 1 to num\n",
      "Stop while loop\n",
      "num after while loop is currently:  7\n"
     ]
    }
   ],
   "source": [
    "num = 1\n",
    "while num <= 6:\n",
    "    print('num is currently: ',num)\n",
    "    print('num is less than or equal to 6, now adding 1 to num')\n",
    "    num = num + 1\n",
    "else:\n",
    "    print('Stop while loop')\n",
    "    print('num after while loop is currently: ',num)"
   ]
  },
  {
   "cell_type": "code",
   "execution_count": 2,
   "metadata": {},
   "outputs": [
    {
     "name": "stdout",
     "output_type": "stream",
     "text": [
      "Sum =  55\n"
     ]
    }
   ],
   "source": [
    "num=1\n",
    "sum=0\n",
    "\n",
    "while num <= 10:\n",
    "    sum = num + sum\n",
    "    num = num + 1 \n",
    "else:\n",
    "    print('Sum = ', sum)"
   ]
  },
  {
   "cell_type": "code",
   "execution_count": 3,
   "metadata": {},
   "outputs": [
    {
     "name": "stdout",
     "output_type": "stream",
     "text": [
      "10\n",
      "12\n",
      "13\n",
      "14\n",
      "15\n"
     ]
    }
   ],
   "source": [
    "a = [10, 12, 13, 14, 15]\n",
    "i = 0\n",
    "while i < len(a):\n",
    "    print(a[i])\n",
    "    i = i+1"
   ]
  },
  {
   "cell_type": "code",
   "execution_count": 4,
   "metadata": {},
   "outputs": [
    {
     "name": "stdout",
     "output_type": "stream",
     "text": [
      "15\n",
      "14\n",
      "13\n",
      "12\n",
      "10\n"
     ]
    }
   ],
   "source": [
    "a = [10, 12, 13, 14, 15]\n",
    "while a:\n",
    "    print(a.pop())"
   ]
  },
  {
   "cell_type": "code",
   "execution_count": 5,
   "metadata": {},
   "outputs": [
    {
     "data": {
      "text/plain": [
       "[]"
      ]
     },
     "execution_count": 5,
     "metadata": {},
     "output_type": "execute_result"
    }
   ],
   "source": [
    "a"
   ]
  },
  {
   "cell_type": "code",
   "execution_count": 6,
   "metadata": {},
   "outputs": [
    {
     "name": "stdout",
     "output_type": "stream",
     "text": [
      "num is currently:  2\n",
      "num is less than 10, now adding 1 to num\n",
      "num is currently:  4\n",
      "num is less than 10, now adding 1 to num\n",
      "num is currently:  6\n",
      "num is less than 10, now adding 1 to num\n",
      "num is currently:  8\n",
      "num is less than 10, now adding 1 to num\n",
      "num is currently:  10\n",
      "num is less than 10, now adding 1 to num\n"
     ]
    }
   ],
   "source": [
    "# Continue Keyword\n",
    "num = 0\n",
    "while num < 10:\n",
    "    num += 1\n",
    "    if num % 2 == 1:\n",
    "        continue\n",
    "    else:\n",
    "            print('num is currently: ',num)\n",
    "            print('num is less than 10, now adding 1 to num')"
   ]
  },
  {
   "cell_type": "code",
   "execution_count": 7,
   "metadata": {},
   "outputs": [
    {
     "name": "stdout",
     "output_type": "stream",
     "text": [
      "c\n",
      "s\n",
      "1\n",
      "D\n",
      "t\n",
      "A\n",
      "a\n",
      "y\n",
      "i\n",
      "s\n",
      "l\n",
      "s\n"
     ]
    }
   ],
   "source": [
    "#Pass\n",
    "a = 'cis310DataAnalyticsClass'\n",
    "i = 0\n",
    "\n",
    "while i < len(a):\n",
    "    if (i % 2 == 0):\n",
    "        print(a[i])\n",
    "    else:\n",
    "        pass # do nothing\n",
    "    i+=1"
   ]
  },
  {
   "cell_type": "code",
   "execution_count": 8,
   "metadata": {},
   "outputs": [
    {
     "name": "stdout",
     "output_type": "stream",
     "text": [
      "num is currently: 1\n",
      "num is less than 10, now adding 1 to num, if num!=5\n",
      "num is currently: 2\n",
      "num is less than 10, now adding 1 to num, if num!=5\n",
      "num is currently: 3\n",
      "num is less than 10, now adding 1 to num, if num!=5\n",
      "num is currently: 4\n",
      "num is less than 10, now adding 1 to num, if num!=5\n",
      "num is currently: 5\n",
      "num is less than 10, now adding 1 to num, if num!=5\n"
     ]
    }
   ],
   "source": [
    "# Break Keyword (exit the loop)\n",
    "\n",
    "num = 1\n",
    "\n",
    "while num < 10:\n",
    "    print('num is currently:',num)\n",
    "    print('num is less than 10, now adding 1 to num, if num!=5')\n",
    "    if num == 5:\n",
    "        break\n",
    "    num+=1"
   ]
  },
  {
   "cell_type": "code",
   "execution_count": 9,
   "metadata": {},
   "outputs": [
    {
     "name": "stdout",
     "output_type": "stream",
     "text": [
      "The Current Letter:  c\n",
      "The Current Letter:  i\n",
      "The Current Letter:  s\n",
      "The Current Letter:  3\n",
      "The Current Letter:  1\n",
      "The Current Letter:  0\n",
      "The Current Letter:  D\n"
     ]
    }
   ],
   "source": [
    "# Break the loop as soon as it sees 'a'\n",
    "# or 'l'\n",
    "a = 'cis310DataAnalyticsClass'\n",
    "i = 0\n",
    "\n",
    "while i < len(a):\n",
    "    if a[i] == 'a' or a[i] =='l':\n",
    "        break\n",
    "    print('The Current Letter: ', a[i])\n",
    "    i+=1"
   ]
  },
  {
   "cell_type": "code",
   "execution_count": 14,
   "metadata": {},
   "outputs": [
    {
     "name": "stdout",
     "output_type": "stream",
     "text": [
      "The Current Letter:  0  : c\n",
      "The Current Letter:  1  : i\n",
      "The Current Letter:  2  : s\n",
      "The Current Letter:  3  : 3\n",
      "The Current Letter:  4  : 1\n",
      "The Current Letter:  5  : 0\n",
      "The Current Letter:  6  : D\n",
      "The Current Letter:  8  : t\n",
      "The Current Letter:  10  : A\n",
      "The Current Letter:  11  : n\n",
      "The Current Letter:  14  : y\n",
      "The Current Letter:  15  : t\n",
      "The Current Letter:  16  : i\n",
      "The Current Letter:  17  : c\n",
      "The Current Letter:  18  : s\n",
      "The Current Letter:  19  : C\n",
      "The Current Letter:  22  : s\n",
      "The Current Letter:  23  : s\n"
     ]
    }
   ],
   "source": [
    "# With continue &&&&& Index\n",
    "a = 'cis310DataAnalyticsClass'\n",
    "i=0\n",
    "\n",
    "while i < len(a):\n",
    "    if a[i] == 'a' or a[i] =='l':\n",
    "        i+=1\n",
    "        continue\n",
    "    print('The Current Letter: ',i, \" :\",a[i])\n",
    "    i+=1"
   ]
  },
  {
   "cell_type": "code",
   "execution_count": null,
   "metadata": {},
   "outputs": [],
   "source": []
  }
 ],
 "metadata": {
  "kernelspec": {
   "display_name": "Python 3.7 - default",
   "language": "python",
   "name": "py37_default"
  },
  "language_info": {
   "codemirror_mode": {
    "name": "ipython",
    "version": 3
   },
   "file_extension": ".py",
   "mimetype": "text/x-python",
   "name": "python",
   "nbconvert_exporter": "python",
   "pygments_lexer": "ipython3",
   "version": "3.7.7"
  }
 },
 "nbformat": 4,
 "nbformat_minor": 4
}
