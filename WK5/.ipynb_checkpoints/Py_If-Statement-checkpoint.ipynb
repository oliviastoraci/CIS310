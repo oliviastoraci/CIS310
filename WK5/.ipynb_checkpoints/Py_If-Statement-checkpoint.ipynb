{
 "cells": [
  {
   "cell_type": "markdown",
   "metadata": {},
   "source": [
    "# Olivia Storaci\n",
    "## Week 5: 02/15/2022\n",
    "### Python Statements [if,else,elif]"
   ]
  },
  {
   "cell_type": "markdown",
   "metadata": {},
   "source": [
    "** The Formate of the if-statements**\n",
    ",,,\n",
    "if condition1:\n",
    "    perform action1\n",
    "elif condition2:\n",
    "    perform action2\n",
    "else:\n",
    "    perform action 3\n",
    ",,,"
   ]
  },
  {
   "cell_type": "code",
   "execution_count": 2,
   "metadata": {},
   "outputs": [
    {
     "name": "stdout",
     "output_type": "stream",
     "text": [
      "This is correct\n"
     ]
    }
   ],
   "source": [
    "#if statement\n",
    "if 5 > 4:\n",
    "    print('This is correct')"
   ]
  },
  {
   "cell_type": "code",
   "execution_count": 5,
   "metadata": {},
   "outputs": [
    {
     "name": "stdout",
     "output_type": "stream",
     "text": [
      "10 is greater than 5\n"
     ]
    }
   ],
   "source": [
    "x = 10\n",
    "y = 5\n",
    "if x > y:\n",
    "    print(x, \"is greater than\", y)"
   ]
  },
  {
   "cell_type": "code",
   "execution_count": 6,
   "metadata": {},
   "outputs": [],
   "source": [
    "x = 10\n",
    "y = 5\n",
    "if x < y:\n",
    "    print(x, \"is smaller than\", y)"
   ]
  },
  {
   "cell_type": "code",
   "execution_count": 7,
   "metadata": {},
   "outputs": [
    {
     "name": "stdout",
     "output_type": "stream",
     "text": [
      "Hi Five!\n"
     ]
    }
   ],
   "source": [
    "# if-else statement\n",
    "value = 5\n",
    "if value == 5:\n",
    "    print('Hi Five!')\n",
    "else:\n",
    "    print('Lets try again')"
   ]
  },
  {
   "cell_type": "code",
   "execution_count": 8,
   "metadata": {},
   "outputs": [
    {
     "name": "stdout",
     "output_type": "stream",
     "text": [
      "Lets try again\n"
     ]
    }
   ],
   "source": [
    "value = 6\n",
    "if value == 5:\n",
    "    print('Hi Five!')\n",
    "else:\n",
    "    print('Lets try again')"
   ]
  },
  {
   "cell_type": "code",
   "execution_count": 9,
   "metadata": {},
   "outputs": [
    {
     "name": "stdout",
     "output_type": "stream",
     "text": [
      "Then, redo test2\n"
     ]
    }
   ],
   "source": [
    "test1 = 98\n",
    "test2 = 67\n",
    "\n",
    "if test1 < test2:\n",
    "    print('You may redo test1')\n",
    "else:\n",
    "    print('Then, redo test2')"
   ]
  },
  {
   "cell_type": "code",
   "execution_count": 13,
   "metadata": {},
   "outputs": [
    {
     "name": "stdout",
     "output_type": "stream",
     "text": [
      "redo test2\n"
     ]
    }
   ],
   "source": [
    "if test2 < test1:\n",
    "    print('redo test2')"
   ]
  },
  {
   "cell_type": "code",
   "execution_count": 16,
   "metadata": {},
   "outputs": [
    {
     "name": "stdout",
     "output_type": "stream",
     "text": [
      "test2 is greater than test1\n",
      "You may think to redo test1 instead?\n",
      "After if-statement!\n"
     ]
    }
   ],
   "source": [
    "# if-elif statement\n",
    "test1 = 81\n",
    "test2 = 89\n",
    "\n",
    "if test1 > test2:\n",
    "    print('test1 is greater than test2')\n",
    "    print('You may think to redo test2')\n",
    "elif test2 > test1:\n",
    "    print('test2 is greater than test1')\n",
    "    print('You may think to redo test1 instead?')\n",
    "else:\n",
    "    print('test1 and test2 scores are equal')\n",
    "    print('You may redo either test1 or test2')\n",
    "    \n",
    "print('After if-statement!')"
   ]
  },
  {
   "cell_type": "code",
   "execution_count": null,
   "metadata": {},
   "outputs": [],
   "source": []
  }
 ],
 "metadata": {
  "kernelspec": {
   "display_name": "Python 3.7 - default",
   "language": "python",
   "name": "py37_default"
  },
  "language_info": {
   "codemirror_mode": {
    "name": "ipython",
    "version": 3
   },
   "file_extension": ".py",
   "mimetype": "text/x-python",
   "name": "python",
   "nbconvert_exporter": "python",
   "pygments_lexer": "ipython3",
   "version": "3.7.7"
  }
 },
 "nbformat": 4,
 "nbformat_minor": 4
}
