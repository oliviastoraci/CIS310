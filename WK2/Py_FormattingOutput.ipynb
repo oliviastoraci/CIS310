{
 "cells": [
  {
   "cell_type": "markdown",
   "metadata": {},
   "source": [
    "# Olivia Storaci\n",
    "## Week 2: 01/27/22 - 2/1/22\n",
    "### Python - Formatting Output"
   ]
  },
  {
   "cell_type": "code",
   "execution_count": 1,
   "metadata": {},
   "outputs": [
    {
     "name": "stdout",
     "output_type": "stream",
     "text": [
      "The quick brown cat jumps over the lazy dog\n"
     ]
    }
   ],
   "source": [
    "# Formatting output using String Modulo Operator (%)\n",
    "print('The quick brown %s jumps over the lazy dog' %'cat')"
   ]
  },
  {
   "cell_type": "code",
   "execution_count": 2,
   "metadata": {},
   "outputs": [
    {
     "name": "stdout",
     "output_type": "stream",
     "text": [
      "The quick brown fox jumps over the lazy dog dog\n"
     ]
    }
   ],
   "source": [
    "print('The quick brown %s jumps over the lazy dog' %'fox','dog')"
   ]
  },
  {
   "cell_type": "code",
   "execution_count": 3,
   "metadata": {},
   "outputs": [],
   "source": [
    "name1, name2, = 'fox', 'dog'"
   ]
  },
  {
   "cell_type": "code",
   "execution_count": 4,
   "metadata": {},
   "outputs": [
    {
     "name": "stdout",
     "output_type": "stream",
     "text": [
      "The quick brown fox jumps over the lazy dog\n"
     ]
    }
   ],
   "source": [
    "print('The quick brown %s jumps over the lazy %s' %(name1,name2))"
   ]
  },
  {
   "cell_type": "code",
   "execution_count": 5,
   "metadata": {},
   "outputs": [
    {
     "name": "stdout",
     "output_type": "stream",
     "text": [
      "The quick brown \tcat jumps over the lazy dog\n"
     ]
    }
   ],
   "source": [
    "print('The quick brown %s jumps over the lazy dog' %'\\tcat')"
   ]
  },
  {
   "cell_type": "code",
   "execution_count": 6,
   "metadata": {},
   "outputs": [
    {
     "name": "stdout",
     "output_type": "stream",
     "text": [
      "My score is 98.0 in CIS310\n"
     ]
    }
   ],
   "source": [
    "# Formatting Numbers\n",
    "print(\"My score is %s in CIS310\" %98.00)"
   ]
  },
  {
   "cell_type": "code",
   "execution_count": 7,
   "metadata": {},
   "outputs": [
    {
     "name": "stdout",
     "output_type": "stream",
     "text": [
      "My score is 98.000000 in CIS310\n"
     ]
    }
   ],
   "source": [
    "print(\"My score is %4f in CIS310\" %98.00)"
   ]
  },
  {
   "cell_type": "code",
   "execution_count": 8,
   "metadata": {},
   "outputs": [
    {
     "name": "stdout",
     "output_type": "stream",
     "text": [
      "My score is 98.000000 in CIS310\n"
     ]
    }
   ],
   "source": [
    "print(\"My score is %8f in CIS310\" %98.00)"
   ]
  },
  {
   "cell_type": "code",
   "execution_count": 9,
   "metadata": {},
   "outputs": [
    {
     "name": "stdout",
     "output_type": "stream",
     "text": [
      "My score is 98.000000 in CIS310\n"
     ]
    }
   ],
   "source": [
    "print(\"My score is %1f in CIS310\" %98.00)"
   ]
  },
  {
   "cell_type": "code",
   "execution_count": 10,
   "metadata": {},
   "outputs": [
    {
     "name": "stdout",
     "output_type": "stream",
     "text": [
      "My score is 98.178937 in CIS310\n"
     ]
    }
   ],
   "source": [
    "print(\"My score is %1f in CIS310\" %98.1789374738)"
   ]
  },
  {
   "cell_type": "code",
   "execution_count": 11,
   "metadata": {},
   "outputs": [
    {
     "name": "stdout",
     "output_type": "stream",
     "text": [
      "My score is 98.000000 in CIS310\n"
     ]
    }
   ],
   "source": [
    "print(\"My score is %4f in CIS310\" %98.00)"
   ]
  },
  {
   "cell_type": "code",
   "execution_count": 12,
   "metadata": {},
   "outputs": [],
   "source": [
    "import webbrowser"
   ]
  },
  {
   "cell_type": "code",
   "execution_count": 13,
   "metadata": {},
   "outputs": [
    {
     "data": {
      "text/plain": [
       "True"
      ]
     },
     "execution_count": 13,
     "metadata": {},
     "output_type": "execute_result"
    }
   ],
   "source": [
    "webbrowser.open('https://docs.python.org/3/library/')"
   ]
  },
  {
   "cell_type": "code",
   "execution_count": 14,
   "metadata": {},
   "outputs": [
    {
     "name": "stdout",
     "output_type": "stream",
     "text": [
      "I'm using the general purpose language Python to perform data analysis\n"
     ]
    }
   ],
   "source": [
    "# Formatted String Literals with .format\n",
    "print(\"I'm using the general purpose language {} to perform data analysis\".format('Python'))"
   ]
  },
  {
   "cell_type": "code",
   "execution_count": 15,
   "metadata": {},
   "outputs": [
    {
     "name": "stdout",
     "output_type": "stream",
     "text": [
      "The brown fox jumps over the lazy dog\n"
     ]
    }
   ],
   "source": [
    "print(\"The {1} {0} jumps over the {3} {2}\".format('fox','brown','dog','lazy'))"
   ]
  },
  {
   "cell_type": "code",
   "execution_count": 16,
   "metadata": {},
   "outputs": [
    {
     "name": "stdout",
     "output_type": "stream",
     "text": [
      "The fluffy cat is very cute.\n"
     ]
    }
   ],
   "source": [
    "print('The {0} {1} is very cute.'.format('fluffy','cat'))"
   ]
  },
  {
   "cell_type": "code",
   "execution_count": 19,
   "metadata": {},
   "outputs": [
    {
     "name": "stdout",
     "output_type": "stream",
     "text": [
      "Food     | Calories \n",
      "Apples   | 3.5      \n",
      "Almonds  | 10.9     \n"
     ]
    }
   ],
   "source": [
    "# index\n",
    "print('{0:8} | {1:9}'.format('Food','Calories'))\n",
    "print('{0:8} | {1:9}'.format('Apples','3.5'))\n",
    "print('{0:8} | {1:9}'.format('Almonds','10.9'))"
   ]
  },
  {
   "cell_type": "code",
   "execution_count": 21,
   "metadata": {},
   "outputs": [
    {
     "name": "stdout",
     "output_type": "stream",
     "text": [
      "Food     | Calories \n",
      "Apples   | 3.5      \n",
      "Almonds  | 10.9     \n"
     ]
    }
   ],
   "source": [
    "#key words\n",
    "print('{f:8} | {c:9}'.format(f='Food',c='Calories'))\n",
    "print('{a:8} | {c:9}'.format(a='Apples',c='3.5'))\n",
    "print('{0:8} | {1:9}'.format('Almonds','10.9'))"
   ]
  },
  {
   "cell_type": "code",
   "execution_count": 22,
   "metadata": {},
   "outputs": [
    {
     "name": "stdout",
     "output_type": "stream",
     "text": [
      "My current GPA is 3.9\n"
     ]
    }
   ],
   "source": [
    "gpa=3.893598\n",
    "print('My current GPA is {0:2.1f}'.format(gpa))"
   ]
  },
  {
   "cell_type": "code",
   "execution_count": 24,
   "metadata": {},
   "outputs": [
    {
     "name": "stdout",
     "output_type": "stream",
     "text": [
      "Dr. Abdunabi teaches CIS310 and CIS350 in Spring 2022\n"
     ]
    }
   ],
   "source": [
    "# Using f-strings\n",
    "n = 'Dr. Abdunabi'\n",
    "t = 'Spring 2022'\n",
    "print(f'{n} teaches CIS310 and CIS350 in {t}')"
   ]
  },
  {
   "cell_type": "code",
   "execution_count": 26,
   "metadata": {},
   "outputs": [
    {
     "name": "stdout",
     "output_type": "stream",
     "text": [
      "Dr. Abdunabi teaches CIS310 and CIS350 in 'Spring 2022'\n"
     ]
    }
   ],
   "source": [
    "# Display with the quotation marks\n",
    "print(f'{n} teaches CIS310 and CIS350 in {t!r}')"
   ]
  },
  {
   "cell_type": "code",
   "execution_count": 27,
   "metadata": {},
   "outputs": [],
   "source": [
    "# Numbers\n",
    "r = 2.5\n",
    "a = (r**2) * 3.1415"
   ]
  },
  {
   "cell_type": "code",
   "execution_count": 37,
   "metadata": {},
   "outputs": [
    {
     "name": "stdout",
     "output_type": "stream",
     "text": [
      "The Area for the radius 2.5000 is 19.6344\n"
     ]
    }
   ],
   "source": [
    "# Display the value using a string\n",
    "print(f'The Area for the radius {r:2.4f} is {a:2.4f}')"
   ]
  },
  {
   "cell_type": "code",
   "execution_count": 39,
   "metadata": {},
   "outputs": [
    {
     "name": "stdout",
     "output_type": "stream",
     "text": [
      "4\n",
      "r = 4\n"
     ]
    }
   ],
   "source": [
    "# Python input () Function. This will ask you for an input\n",
    "r = input()\n",
    "print(f\"r = {r}\")"
   ]
  },
  {
   "cell_type": "code",
   "execution_count": 43,
   "metadata": {},
   "outputs": [
    {
     "name": "stdout",
     "output_type": "stream",
     "text": [
      "Enter the value of r: 12\n"
     ]
    }
   ],
   "source": [
    "# Change the spacing. Without the , end= it would automatically go to a new line\n",
    "print('Enter the value of r: ', end='')\n",
    "r = input()"
   ]
  },
  {
   "cell_type": "code",
   "execution_count": 45,
   "metadata": {},
   "outputs": [
    {
     "name": "stdout",
     "output_type": "stream",
     "text": [
      "1 3\n"
     ]
    }
   ],
   "source": [
    "# Python Casting between primitive data types (str to integer float to integer etc.)\n",
    "# Cast to Int\n",
    "x = int('1') # result will be 1 = String to int\n",
    "y = int(3.5) # Result will be 3 = Floating Point to int\n",
    "print(x,y)"
   ]
  },
  {
   "cell_type": "code",
   "execution_count": 46,
   "metadata": {},
   "outputs": [
    {
     "name": "stdout",
     "output_type": "stream",
     "text": [
      "1.0 3.0 4.5\n"
     ]
    }
   ],
   "source": [
    "# cast to float\n",
    "x = float(1)  \n",
    "y = float('3')\n",
    "z = float('4.5')\n",
    "print(x,y,z)"
   ]
  },
  {
   "cell_type": "code",
   "execution_count": 47,
   "metadata": {},
   "outputs": [
    {
     "data": {
      "text/plain": [
       "float"
      ]
     },
     "execution_count": 47,
     "metadata": {},
     "output_type": "execute_result"
    }
   ],
   "source": [
    "type(z)"
   ]
  },
  {
   "cell_type": "code",
   "execution_count": 48,
   "metadata": {},
   "outputs": [],
   "source": [
    "# Cast to String\n",
    "x = str(1)\n",
    "y = str(3.5)"
   ]
  },
  {
   "cell_type": "code",
   "execution_count": 49,
   "metadata": {},
   "outputs": [
    {
     "data": {
      "text/plain": [
       "'1'"
      ]
     },
     "execution_count": 49,
     "metadata": {},
     "output_type": "execute_result"
    }
   ],
   "source": [
    "x"
   ]
  },
  {
   "cell_type": "code",
   "execution_count": 50,
   "metadata": {},
   "outputs": [
    {
     "data": {
      "text/plain": [
       "'3.5'"
      ]
     },
     "execution_count": 50,
     "metadata": {},
     "output_type": "execute_result"
    }
   ],
   "source": [
    "y"
   ]
  },
  {
   "cell_type": "code",
   "execution_count": 51,
   "metadata": {},
   "outputs": [
    {
     "data": {
      "text/plain": [
       "str"
      ]
     },
     "execution_count": 51,
     "metadata": {},
     "output_type": "execute_result"
    }
   ],
   "source": [
    "type(x)"
   ]
  },
  {
   "cell_type": "code",
   "execution_count": null,
   "metadata": {},
   "outputs": [],
   "source": []
  }
 ],
 "metadata": {
  "kernelspec": {
   "display_name": "Python 3.7 - default",
   "language": "python",
   "name": "py37_default"
  },
  "language_info": {
   "codemirror_mode": {
    "name": "ipython",
    "version": 3
   },
   "file_extension": ".py",
   "mimetype": "text/x-python",
   "name": "python",
   "nbconvert_exporter": "python",
   "pygments_lexer": "ipython3",
   "version": "3.7.7"
  }
 },
 "nbformat": 4,
 "nbformat_minor": 4
}
